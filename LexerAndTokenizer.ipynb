{
 "cells": [
  {
   "cell_type": "markdown",
   "metadata": {},
   "source": [
    "# Mini-Compiler Project\n",
    "Eslam Ahmed Mohammed\t202000039\n",
    "\n",
    "Antony Emil Kiroles\t202000897\n",
    "\n",
    "Donia Khaled Metwali \t202001874\n",
    "\n",
    "Mariam Amr Barakat\t202000210\n"
   ]
  },
  {
   "cell_type": "code",
   "execution_count": null,
   "metadata": {},
   "outputs": [],
   "source": [
    "import re\n"
   ]
  },
  {
   "cell_type": "code",
   "execution_count": null,
   "metadata": {},
   "outputs": [],
   "source": [
    "def tokenize(code):\n",
    "    tokens = []\n",
    "\n",
    "    for match in token_re.finditer(code):\n",
    "        token_type = match.lastgroup\n",
    "        lexeme = match.group(token_type)\n",
    "\n",
    "        if token_type == 'space' or token_type == 'comment':\n",
    "            continue  \n",
    "        else:\n",
    "            tokens.append(f\"Token={token_type}, Lexeme={lexeme}\")\n",
    "    \n",
    "    return tokens"
   ]
  },
  {
   "cell_type": "markdown",
   "metadata": {},
   "source": [
    "## general\n",
    "- , -> comma\n",
    "- num2 -> identifier"
   ]
  },
  {
   "cell_type": "code",
   "execution_count": null,
   "metadata": {},
   "outputs": [],
   "source": [
    "TOKEN_SPECIFICATIONS = [\n",
    "    ('let', r'\\bLET\\b'),               # Specific token for LET\n",
    "    ('if', r'\\bIF\\b'),                 # Specific token for IF\n",
    "    ('then', r'\\bTHEN\\b'),             # Specific token for THEN\n",
    "    ('else', r'\\bELSE\\b'),             # Specific token for ELSE\n",
    "    ('endif', r'\\bENDIF\\b'),           # Specific token for ENDIF\n",
    "    ('while', r'\\bWHILE\\b'),           # Specific token for WHILE\n",
    "    ('do', r'\\bDO\\b'),                 # Specific token for DO\n",
    "    ('endwhile', r'\\bENDWHILE\\b'),     # Specific token for ENDWHILE\n",
    "    ('for', r'\\bFOR\\b'),               # Specific token for FOR\n",
    "    ('endfor', r'\\bENDFOR\\b'),         # Specific token for ENDFOR\n",
    "    ('call', r'\\bCALL\\b'),             # Specific token for CALL\n",
    "    ('func', r'\\bFUNC\\b'),             # Specific token for FUNC\n",
    "    ('return', r'\\bRETURN\\b'),         # Specific token for RETURN\n",
    "    ('repeat', r'\\bREPEAT\\b'),         # Specific token for REPEAT\n",
    "    ('until', r'\\bUNTIL\\b'),           # Specific token for UNTIL\n",
    "    ('not', r'\\bNOT\\b'),               # Specific token for NOT\n",
    "    ('and', r'\\bAND\\b'),               # Specific token for AND\n",
    "    ('or', r'\\bOR\\b'),                 # Specific token for OR\n",
    "    ('in', r'\\bIN\\b'),                 # Specific token for IN\n",
    "    ('to', r'\\bTO\\b'),                 # Specific token for TO\n",
    "    ('step', r'\\bSTEP\\b'),             # Specific token for STEP\n",
    "    ('begin', r'\\bBEGIN\\b'),           # Specific token for BEGIN\n",
    "    ('end', r'\\bEND\\b'),               # Specific token for END\n",
    "    ('number', r'-?\\d+(\\.\\d+)?'),      # Number\n",
    "    ('identifier', r'[a-zA-Z_][a-zA-Z0-9_]*'),  # Identifiers\n",
    "    ('operator', r'!=|[<>=]=?|[+\\-*/]'),  # Combined Arithmetic and Relational Operators\n",
    "    ('comment', r'\\{[^}]*\\}'),         # Comments\n",
    "    ('left_paren', r'\\('),             # Left parenthesis\n",
    "    ('right_paren', r'\\)'),            # Right parenthesis\n",
    "    ('left_brack', r'\\['),             # Left bracket\n",
    "    ('right_brack', r'\\]'),            # Right bracket\n",
    "    ('comma', r','),                   # Comma\n",
    "    ('space', r'\\s+'),                 # Whitespace\n",
    "    ('unknown', r'[^\\s]'),                # Any other character\n",
    "]\n",
    "\n",
    "# Compile regex with case-insensitive flag\n",
    "token_re = re.compile('|'.join(f'(?P<{pair[0]}>{pair[1]})' for pair in TOKEN_SPECIFICATIONS), re.IGNORECASE)\n"
   ]
  },
  {
   "cell_type": "markdown",
   "metadata": {},
   "source": [
    "## Rules"
   ]
  },
  {
   "cell_type": "code",
   "execution_count": null,
   "metadata": {},
   "outputs": [],
   "source": [
    "def rule(lexem):\n",
    "    # Reusable components for lexing\n",
    "    keyword = r'(LET|IF|THEN|ELSE|ENDIF|WHILE|DO|ENDWHILE|FOR|ENDFOR|CALL|FUNC|RETURN|REPEAT|UNTIL|NOT|AND|OR|IN|TO|STEP|BEGIN|END)',\n",
    "    identifier = r'[a-zA-Z_][a-zA-Z0-9_]*'\n",
    "    integer = r'-?\\d+'\n",
    "    float = r'-?\\d+\\.\\d+'\n",
    "    string = r'\"[^\"]*\"|\\'[^\\']\\''\n",
    "    operator_Arithmetic = r'[+\\-*/]'\n",
    "    operator_Relational = r'!=|[<>=]=?'\n",
    "    operator_Logical = r'(AND|OR|NOT)'\n",
    "    comment = r'\\{[^}]*\\}'\n",
    "    \n",
    "    \n",
    "    statment = rf'{LET}|{IF}|{WHILE}|{FOR}|{DO_WHILE}|{RANGE_FOR}|{REPEAT_UNTIL}|{FUNC_CALL}|{INCREMENT}|{DECREMENT}'\n",
    "\n",
    "    expression = rf'({identifier}|{integer}|{float})({operator_Arithmetic}({identifier}|{integer}|{float}))*'\n",
    "    \n",
    "    list_Elements = rf'\\[({expression}(,{expression})*)\\]'\n",
    "    element = rf'({identifier}|{integer}|{float}|{string})'\n",
    "\n",
    "    condition = rf'({expression})({operator_Logical}({expression}))*'\n",
    "\n",
    "    param_list = rf'({identifier}(,{identifier})*)?'\n",
    "\n",
    "    arg_list = rf'({expression}(,{expression})*)?'\n",
    "\n",
    "    LET = rf'LET {identifier} = ({expression} | {list_Elements})'\n",
    "    \n",
    "    IF = rf'IF {condition} THEN {statment}+ ELSE {statment}+ ENDIF'\n",
    "    \n",
    "    WHILE = rf'WHILE {condition} DO {statment}+ ENDWHILE'\n",
    "    DO_WHILE = rf'DO {statment}+ WHILE {condition}'\n",
    "\n",
    "    FOR = rf'FOR {identifier} = {integer} TO {integer} STEP {integer} DO {statment}+ ENDFOR'\n",
    "    RANGE_FOR = rf'FOR {identifier} IN Range({integer},{integer},{integer}) DO {statment}+ ENDFOR'\n",
    "\n",
    "    REPEAT_UNTIL = rf'REPEAT {statment}+ UNTIL {condition}'\n",
    "\n",
    "    FUNC_DEF = rf'FUNC {identifier}{param_list} BEGIN {statment}+ RETURN {expression} END'\n",
    "    FUNC_CALL = rf'CALL {identifier}{arg_list}'\n",
    "\n",
    "    LIST_ACCESS = rf'{identifier}\\[{integer}\\]'\n",
    "\n",
    "    INCREMENT = rf'{identifier}++'\n",
    "    DECREMENT = rf'{identifier}--'"
   ]
  }
 ],
 "metadata": {
  "kernelspec": {
   "display_name": "Python 3",
   "language": "python",
   "name": "python3"
  },
  "language_info": {
   "codemirror_mode": {
    "name": "ipython",
    "version": 3
   },
   "file_extension": ".py",
   "mimetype": "text/x-python",
   "name": "python",
   "nbconvert_exporter": "python",
   "pygments_lexer": "ipython3",
   "version": "3.11.9"
  }
 },
 "nbformat": 4,
 "nbformat_minor": 2
}
